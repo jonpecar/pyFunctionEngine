{
    "cells": [
        {
            "cell_type": "code",
            "execution_count": 5,
            "source": [
                "import os, sys\r\n",
                "from IPython.display import display, Math, Latex\r\n",
                "\r\n",
                "sys.path.insert(1, os.getcwd()) \r\n",
                "\r\n",
                "from FunctionEngine.FunctionEngine import Term, Equation, FormatTypes\r\n",
                "from FunctionEngine.Functions import sqrt, sin, asin, cos, acos\r\n",
                "\r\n",
                "power = Term(1, 'Power', 'kW')\r\n",
                "volts = Term(220, 'Voltage_{DC}', 'V')\r\n",
                "amps = power/volts\r\n",
                "\r\n",
                "amps.symbol = 'Current'\r\n",
                "amps.unit = 'A'\r\n",
                "display(Math(amps.result_formula(FormatTypes.SYMBOLS)))\r\n",
                "display(Math(amps.result_formula(FormatTypes.WITH_UNITS)))\r\n",
                "display(Math(amps.result_formula(FormatTypes.NO_UNITS)))\r\n",
                "\r\n",
                "volts_phph = Term(220, 'Volts_{p-p}', 'kV')\r\n",
                "volts_ph = volts_phph/sqrt(3)\r\n",
                "display(Math(volts_ph.result_formula(FormatTypes.SYMBOLS)))\r\n",
                "display(Math(volts_ph.result_formula(FormatTypes.NO_UNITS)))"
            ],
            "outputs": [
                {
                    "output_type": "display_data",
                    "data": {
                        "text/latex": [
                            "$\\displaystyle Current = \\frac{Power}{Voltage_{DC}}$"
                        ],
                        "text/plain": [
                            "<IPython.core.display.Math object>"
                        ]
                    },
                    "metadata": {}
                },
                {
                    "output_type": "display_data",
                    "data": {
                        "text/latex": [
                            "$\\displaystyle Current = \\frac{1\\ \\mathrm{kW}}{220\\ \\mathrm{V}} = 4.55\\ \\mathrm{A}$"
                        ],
                        "text/plain": [
                            "<IPython.core.display.Math object>"
                        ]
                    },
                    "metadata": {}
                },
                {
                    "output_type": "display_data",
                    "data": {
                        "text/latex": [
                            "$\\displaystyle Current = \\frac{1}{220} = 4.55$"
                        ],
                        "text/plain": [
                            "<IPython.core.display.Math object>"
                        ]
                    },
                    "metadata": {}
                },
                {
                    "output_type": "error",
                    "ename": "TypeError",
                    "evalue": "unsupported operand type(s) for +: 'NoneType' and 'str'",
                    "traceback": [
                        "\u001b[1;31m---------------------------------------------------------------------------\u001b[0m",
                        "\u001b[1;31mTypeError\u001b[0m                                 Traceback (most recent call last)",
                        "\u001b[1;32m~\\AppData\\Local\\Temp/ipykernel_27220/1751622057.py\u001b[0m in \u001b[0;36m<module>\u001b[1;34m\u001b[0m\n\u001b[0;32m     19\u001b[0m \u001b[0mvolts_phph\u001b[0m \u001b[1;33m=\u001b[0m \u001b[0mTerm\u001b[0m\u001b[1;33m(\u001b[0m\u001b[1;36m220\u001b[0m\u001b[1;33m,\u001b[0m \u001b[1;34m'Volts_{p-p}'\u001b[0m\u001b[1;33m,\u001b[0m \u001b[1;34m'kV'\u001b[0m\u001b[1;33m)\u001b[0m\u001b[1;33m\u001b[0m\u001b[1;33m\u001b[0m\u001b[0m\n\u001b[0;32m     20\u001b[0m \u001b[0mvolts_ph\u001b[0m \u001b[1;33m=\u001b[0m \u001b[0mvolts_phph\u001b[0m\u001b[1;33m/\u001b[0m\u001b[0msqrt\u001b[0m\u001b[1;33m(\u001b[0m\u001b[1;36m3\u001b[0m\u001b[1;33m)\u001b[0m\u001b[1;33m\u001b[0m\u001b[1;33m\u001b[0m\u001b[0m\n\u001b[1;32m---> 21\u001b[1;33m \u001b[0mdisplay\u001b[0m\u001b[1;33m(\u001b[0m\u001b[0mMath\u001b[0m\u001b[1;33m(\u001b[0m\u001b[0mvolts_ph\u001b[0m\u001b[1;33m.\u001b[0m\u001b[0mresult_formula\u001b[0m\u001b[1;33m(\u001b[0m\u001b[0mFormatTypes\u001b[0m\u001b[1;33m.\u001b[0m\u001b[0mSYMBOLS\u001b[0m\u001b[1;33m)\u001b[0m\u001b[1;33m)\u001b[0m\u001b[1;33m)\u001b[0m\u001b[1;33m\u001b[0m\u001b[1;33m\u001b[0m\u001b[0m\n\u001b[0m\u001b[0;32m     22\u001b[0m \u001b[0mdisplay\u001b[0m\u001b[1;33m(\u001b[0m\u001b[0mMath\u001b[0m\u001b[1;33m(\u001b[0m\u001b[0mvolts_ph\u001b[0m\u001b[1;33m.\u001b[0m\u001b[0mresult_formula\u001b[0m\u001b[1;33m(\u001b[0m\u001b[0mFormatTypes\u001b[0m\u001b[1;33m.\u001b[0m\u001b[0mNO_UNITS\u001b[0m\u001b[1;33m)\u001b[0m\u001b[1;33m)\u001b[0m\u001b[1;33m)\u001b[0m\u001b[1;33m\u001b[0m\u001b[1;33m\u001b[0m\u001b[0m\n",
                        "\u001b[1;32mc:\\Users\\Jonat\\repos\\pyFunctionEngine\\FunctionEngine\\FunctionEngine.py\u001b[0m in \u001b[0;36mresult_formula\u001b[1;34m(self, format)\u001b[0m\n\u001b[0;32m    198\u001b[0m \u001b[1;33m\u001b[0m\u001b[0m\n\u001b[0;32m    199\u001b[0m     \u001b[1;32mdef\u001b[0m \u001b[0mresult_formula\u001b[0m\u001b[1;33m(\u001b[0m\u001b[0mself\u001b[0m\u001b[1;33m,\u001b[0m \u001b[0mformat\u001b[0m \u001b[1;33m:\u001b[0m \u001b[0mFormatTypes\u001b[0m\u001b[1;33m)\u001b[0m\u001b[1;33m:\u001b[0m\u001b[1;33m\u001b[0m\u001b[1;33m\u001b[0m\u001b[0m\n\u001b[1;32m--> 200\u001b[1;33m         \u001b[0mresult\u001b[0m \u001b[1;33m=\u001b[0m \u001b[0mself\u001b[0m\u001b[1;33m.\u001b[0m\u001b[0msymbol\u001b[0m \u001b[1;33m+\u001b[0m \u001b[1;34m' = '\u001b[0m \u001b[1;33m+\u001b[0m \u001b[0mself\u001b[0m\u001b[1;33m.\u001b[0m\u001b[0m_formulas\u001b[0m\u001b[1;33m[\u001b[0m\u001b[0mformat\u001b[0m\u001b[1;33m.\u001b[0m\u001b[0mvalue\u001b[0m\u001b[1;33m]\u001b[0m\u001b[1;33m\u001b[0m\u001b[1;33m\u001b[0m\u001b[0m\n\u001b[0m\u001b[0;32m    201\u001b[0m         \u001b[1;32mif\u001b[0m \u001b[0mformat\u001b[0m \u001b[1;33m!=\u001b[0m \u001b[0mFormatTypes\u001b[0m\u001b[1;33m.\u001b[0m\u001b[0mSYMBOLS\u001b[0m\u001b[1;33m:\u001b[0m\u001b[1;33m\u001b[0m\u001b[1;33m\u001b[0m\u001b[0m\n\u001b[0;32m    202\u001b[0m             \u001b[0mresult\u001b[0m \u001b[1;33m+=\u001b[0m \u001b[1;34m' = '\u001b[0m \u001b[1;33m+\u001b[0m \u001b[0mself\u001b[0m\u001b[1;33m.\u001b[0m\u001b[0mformatted_value\u001b[0m\u001b[1;33m(\u001b[0m\u001b[0mformat\u001b[0m\u001b[1;33m)\u001b[0m\u001b[1;33m\u001b[0m\u001b[1;33m\u001b[0m\u001b[0m\n",
                        "\u001b[1;31mTypeError\u001b[0m: unsupported operand type(s) for +: 'NoneType' and 'str'"
                    ]
                }
            ],
            "metadata": {}
        }
    ],
    "metadata": {
        "orig_nbformat": 4,
        "language_info": {
            "name": "python",
            "version": "3.9.5",
            "mimetype": "text/x-python",
            "codemirror_mode": {
                "name": "ipython",
                "version": 3
            },
            "pygments_lexer": "ipython3",
            "nbconvert_exporter": "python",
            "file_extension": ".py"
        },
        "kernelspec": {
            "name": "python3",
            "display_name": "Python 3.9.5 64-bit ('PowerSysCalc': venv)"
        },
        "interpreter": {
            "hash": "d6a9fe1782a97658362ebb843c0609ec436f61b6a55a082a8ff14b27e0643acc"
        }
    },
    "nbformat": 4,
    "nbformat_minor": 2
}