{
    "cells": [
        {
            "cell_type": "code",
            "execution_count": 6,
            "source": [
                "import os, sys\r\n",
                "from IPython.display import display, Math, Latex\r\n",
                "\r\n",
                "sys.path.insert(1, os.getcwd()) \r\n",
                "\r\n",
                "from FunctionEngine.FunctionEngine import Term, Equation, FormatTypes\r\n",
                "from FunctionEngine.Functions import sqrt, sin, asin, cos, acos\r\n",
                "\r\n",
                "power = Term(1, 'Power', 'kW')\r\n",
                "volts = Term(220, 'Voltage_{DC}', 'V')\r\n",
                "amps = power/volts\r\n",
                "\r\n",
                "amps.symbol = 'Current'\r\n",
                "amps.unit = 'A'\r\n",
                "display(Math(amps.result_formula(FormatTypes.SYMBOLS)))\r\n",
                "display(Math(amps.result_formula(FormatTypes.WITH_UNITS)))\r\n",
                "display(Math(amps.result_formula(FormatTypes.NO_UNITS)))\r\n",
                "\r\n",
                "volts_phph = Term(220, 'Volts_{p-p}', 'kV')\r\n",
                "volts_ph = volts_phph/sqrt(3)\r\n",
                "volts_ph.symbol = 'Volts_{p-g}'\r\n",
                "display(Math(volts_ph.result_formula(FormatTypes.SYMBOLS)))\r\n",
                "display(Math(volts_ph.result_formula(FormatTypes.NO_UNITS)))"
            ],
            "outputs": [
                {
                    "output_type": "display_data",
                    "data": {
                        "text/latex": [
                            "$\\displaystyle Current = \\frac{Power}{Voltage_{DC}}$"
                        ],
                        "text/plain": [
                            "<IPython.core.display.Math object>"
                        ]
                    },
                    "metadata": {}
                },
                {
                    "output_type": "display_data",
                    "data": {
                        "text/latex": [
                            "$\\displaystyle Current = \\frac{1\\ \\mathrm{kW}}{220\\ \\mathrm{V}} = 4.55\\ \\mathrm{A}$"
                        ],
                        "text/plain": [
                            "<IPython.core.display.Math object>"
                        ]
                    },
                    "metadata": {}
                },
                {
                    "output_type": "display_data",
                    "data": {
                        "text/latex": [
                            "$\\displaystyle Current = \\frac{1}{220} = 4.55$"
                        ],
                        "text/plain": [
                            "<IPython.core.display.Math object>"
                        ]
                    },
                    "metadata": {}
                },
                {
                    "output_type": "display_data",
                    "data": {
                        "text/latex": [
                            "$\\displaystyle Volts_{p-g} = \\frac{Volts_{p-p}}{\\sqrt{3}}$"
                        ],
                        "text/plain": [
                            "<IPython.core.display.Math object>"
                        ]
                    },
                    "metadata": {}
                },
                {
                    "output_type": "display_data",
                    "data": {
                        "text/latex": [
                            "$\\displaystyle Volts_{p-g} = \\frac{220}{\\sqrt{3}} = 127.02$"
                        ],
                        "text/plain": [
                            "<IPython.core.display.Math object>"
                        ]
                    },
                    "metadata": {}
                }
            ],
            "metadata": {}
        }
    ],
    "metadata": {
        "orig_nbformat": 4,
        "language_info": {
            "name": "python",
            "version": "3.9.5",
            "mimetype": "text/x-python",
            "codemirror_mode": {
                "name": "ipython",
                "version": 3
            },
            "pygments_lexer": "ipython3",
            "nbconvert_exporter": "python",
            "file_extension": ".py"
        },
        "kernelspec": {
            "name": "python3",
            "display_name": "Python 3.9.5 64-bit ('PowerSysCalc': venv)"
        },
        "interpreter": {
            "hash": "d6a9fe1782a97658362ebb843c0609ec436f61b6a55a082a8ff14b27e0643acc"
        }
    },
    "nbformat": 4,
    "nbformat_minor": 2
}